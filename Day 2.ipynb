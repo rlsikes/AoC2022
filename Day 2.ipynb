{
 "cells": [
  {
   "cell_type": "code",
   "execution_count": 1,
   "id": "9c699a90",
   "metadata": {},
   "outputs": [],
   "source": [
    "import requests\n",
    "import pandas as pd\n",
    "\n",
    "def get_aoc_data(year: str, day_number: str, your_cookie: str):\n",
    "    url = f'https://adventofcode.com/{year}/day/{day_number}/input'\n",
    "    headers = {'user-agent': 'Mozilla/5.0', 'cookie': your_cookie}\n",
    "    get_data = requests.get(url, headers=headers)\n",
    "    data_returned = get_data.text.split('\\n')\n",
    "    data_dataframe = pd.DataFrame(columns=['data'], data=data_returned)\n",
    "    return data_dataframe"
   ]
  },
  {
   "cell_type": "code",
   "execution_count": 2,
   "id": "d7cc8b62",
   "metadata": {},
   "outputs": [],
   "source": [
    "#import the data\n",
    "data =get_aoc_data(2022, 2, '_ga=GA1.2.671750781.1669911501; _gid=GA1.2.885796655.1669911501; ru=53616c7465645f5fc8e58e037801718862ed66d9550bf3d2c48dca47922ddee4; session=53616c7465645f5fecc76146c2528d3ed4205ec6112b1fd9c7f3c20e168b7a2851468e4cc7d0d04769b17ef6eab9d4a06a2c6f71b22d5af70f0d52bd0b0ce189; _gat=1')"
   ]
  },
  {
   "cell_type": "code",
   "execution_count": 3,
   "id": "15b056d8",
   "metadata": {},
   "outputs": [],
   "source": [
    "#the last row is blank and adding extra value in calc\n",
    "data = data.loc[data['data'] != ''].copy()"
   ]
  },
  {
   "cell_type": "code",
   "execution_count": 4,
   "id": "a6bd8256",
   "metadata": {},
   "outputs": [],
   "source": [
    "new = data[\"data\"].str.split(\" \", n = 1, expand = True)"
   ]
  },
  {
   "cell_type": "code",
   "execution_count": 5,
   "id": "78692005",
   "metadata": {},
   "outputs": [],
   "source": [
    "data['playerA'] = new[0]\n",
    "data['playerB'] = new[1]"
   ]
  },
  {
   "cell_type": "code",
   "execution_count": 6,
   "id": "5ed6ad8f",
   "metadata": {},
   "outputs": [],
   "source": [
    "#calculate points for rock, paper, scissors choice (1,2,3 respectively)\n",
    "#dict_scoreA = {score: x for x, score in enumerate(set(data.playerA))}\n",
    "#data['playerA_choice'] = [dict_scoreA[score] for score in data.playerA]"
   ]
  },
  {
   "cell_type": "code",
   "execution_count": 7,
   "id": "fd6f16ff",
   "metadata": {},
   "outputs": [],
   "source": [
    "data['playerA_choice'] = data.apply(lambda x: 1 if x['playerA'] == 'A'\n",
    "                                    else 2 if x['playerA'] == 'B'\n",
    "                                    else 3, axis=1)"
   ]
  },
  {
   "cell_type": "code",
   "execution_count": 8,
   "id": "e9fedd15",
   "metadata": {},
   "outputs": [],
   "source": [
    "data['playerB_choice'] = data.apply(lambda x: 1 if x['playerB'] == 'X'\n",
    "                                    else 2 if x['playerB'] == 'Y'\n",
    "                                    else 3, axis=1)\n",
    "\n",
    "        "
   ]
  },
  {
   "cell_type": "code",
   "execution_count": 9,
   "id": "bb35b0d9",
   "metadata": {},
   "outputs": [],
   "source": [
    "data['playerA_result'] = data.apply(lambda x: 0 if x['playerA_choice'] <\n",
    "                     x['playerB_choice'] else 6 if x['playerA_choice'] >\n",
    "                     x['playerB_choice'] else 3, axis=1)\n",
    "\n",
    "\n",
    "\n",
    "#grade = lambda x: 'A+' if x>7 else 'A' if x>=5 and x<=7 else 'B'"
   ]
  },
  {
   "cell_type": "code",
   "execution_count": 10,
   "id": "1f8f9dd0",
   "metadata": {},
   "outputs": [],
   "source": [
    "data['playerB_result'] = data.apply(lambda x: 6 if x['playerA_choice'] <\n",
    "                     x['playerB_choice'] else 0 if x['playerA_choice'] >\n",
    "                     x['playerB_choice'] else 3, axis=1)"
   ]
  },
  {
   "cell_type": "code",
   "execution_count": 11,
   "id": "d193e347",
   "metadata": {},
   "outputs": [],
   "source": [
    "\n",
    "data['total_score'] = data.apply(lambda x: x['playerB_choice'] + x['playerB_result'], axis=1) "
   ]
  },
  {
   "cell_type": "code",
   "execution_count": 12,
   "id": "e63c9fdd",
   "metadata": {},
   "outputs": [
    {
     "data": {
      "text/plain": [
       "11030"
      ]
     },
     "execution_count": 12,
     "metadata": {},
     "output_type": "execute_result"
    }
   ],
   "source": [
    "data.total_score.sum()"
   ]
  },
  {
   "cell_type": "code",
   "execution_count": null,
   "id": "3dd30949",
   "metadata": {},
   "outputs": [],
   "source": [
    "data.describe()\n"
   ]
  },
  {
   "cell_type": "code",
   "execution_count": null,
   "id": "55f06a07",
   "metadata": {},
   "outputs": [],
   "source": [
    "data['data'].isnull().values.any()"
   ]
  },
  {
   "cell_type": "code",
   "execution_count": null,
   "id": "f5fc3d6e",
   "metadata": {},
   "outputs": [],
   "source": []
  }
 ],
 "metadata": {
  "kernelspec": {
   "display_name": "Python 3 (ipykernel)",
   "language": "python",
   "name": "python3"
  },
  "language_info": {
   "codemirror_mode": {
    "name": "ipython",
    "version": 3
   },
   "file_extension": ".py",
   "mimetype": "text/x-python",
   "name": "python",
   "nbconvert_exporter": "python",
   "pygments_lexer": "ipython3",
   "version": "3.9.12"
  }
 },
 "nbformat": 4,
 "nbformat_minor": 5
}
