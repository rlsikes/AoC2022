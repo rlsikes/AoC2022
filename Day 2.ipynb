{
 "cells": [
  {
   "cell_type": "code",
   "execution_count": 1,
   "id": "3f4af0b6",
   "metadata": {},
   "outputs": [],
   "source": [
    "import requests\n",
    "import pandas as pd\n",
    "\n",
    "def get_aoc_data(year: str, day_number: str, your_cookie: str):\n",
    "    url = f'https://adventofcode.com/{year}/day/{day_number}/input'\n",
    "    headers = {'user-agent': 'Mozilla/5.0', 'cookie': your_cookie}\n",
    "    get_data = requests.get(url, headers=headers)\n",
    "    data_returned = get_data.text.split('\\n')\n",
    "    data_dataframe = pd.DataFrame(columns=['data'], data=data_returned)\n",
    "    return data_dataframe"
   ]
  },
  {
   "cell_type": "code",
   "execution_count": 2,
   "id": "3e21810a",
   "metadata": {},
   "outputs": [],
   "source": [
    "#import the data\n",
    "data =get_aoc_data(2022, 2, '_ga=GA1.2.671750781.1669911501; _gid=GA1.2.885796655.1669911501; ru=53616c7465645f5fc8e58e037801718862ed66d9550bf3d2c48dca47922ddee4; session=53616c7465645f5fecc76146c2528d3ed4205ec6112b1fd9c7f3c20e168b7a2851468e4cc7d0d04769b17ef6eab9d4a06a2c6f71b22d5af70f0d52bd0b0ce189; _gat=1')"
   ]
  },
  {
   "cell_type": "code",
   "execution_count": 3,
   "id": "4ad532b0",
   "metadata": {},
   "outputs": [],
   "source": [
    "#the last row is blank and adding extra value in calc\n",
    "data = data.loc[data['data'] != ''].copy()"
   ]
  },
  {
   "cell_type": "code",
   "execution_count": 4,
   "id": "467fa82b",
   "metadata": {},
   "outputs": [],
   "source": [
    "new = data[\"data\"].str.split(\" \", n = 1, expand = True)"
   ]
  },
  {
   "cell_type": "code",
   "execution_count": 5,
   "id": "8bd186c6",
   "metadata": {},
   "outputs": [],
   "source": [
    "data['playerA'] = new[0]\n",
    "data['playerB'] = new[1]"
   ]
  },
  {
   "cell_type": "code",
   "execution_count": 6,
   "id": "9f26c327",
   "metadata": {},
   "outputs": [],
   "source": [
    "#calculate points for rock, paper, scissors choice (1,2,3 respectively)\n",
    "#dict_scoreA = {score: x for x, score in enumerate(set(data.playerA))}\n",
    "#data['playerA_choice'] = [dict_scoreA[score] for score in data.playerA]"
   ]
  },
  {
   "cell_type": "code",
   "execution_count": 7,
   "id": "13df5e59",
   "metadata": {},
   "outputs": [],
   "source": [
    "data['playerA_choice'] = data.apply(lambda x: 1 if x['playerA'] == 'A'\n",
    "                                    else 2 if x['playerA'] == 'B'\n",
    "                                    else 3, axis=1)"
   ]
  },
  {
   "cell_type": "code",
   "execution_count": 8,
   "id": "7c0e91fd",
   "metadata": {},
   "outputs": [],
   "source": [
    "data['playerB_choice'] = data.apply(lambda x: 1 if x['playerB'] == 'X'\n",
    "                                    else 2 if x['playerB'] == 'Y'\n",
    "                                    else 3, axis=1)\n",
    "\n",
    "        "
   ]
  },
  {
   "cell_type": "code",
   "execution_count": 9,
   "id": "8464a9a8",
   "metadata": {},
   "outputs": [],
   "source": [
    "list_win = [('A Y'), ('B Z'), ('C X')]\n",
    "list_loss = [('A Z'), ('B X'), ('C Y')]"
   ]
  },
  {
   "cell_type": "code",
   "execution_count": 10,
   "id": "4bf7c9e0",
   "metadata": {},
   "outputs": [],
   "source": [
    "data['playerB_result'] = data.apply(lambda x: 6 if x['data'] in list_win\n",
    "                                    else 0 if x['data'] in list_loss\n",
    "                                    else 3, axis=1)"
   ]
  },
  {
   "cell_type": "code",
   "execution_count": 11,
   "id": "d031d026",
   "metadata": {},
   "outputs": [],
   "source": [
    "\n",
    "data['total_score'] = data.apply(lambda x: x['playerB_choice'] + x['playerB_result'], axis=1) "
   ]
  },
  {
   "cell_type": "code",
   "execution_count": 12,
   "id": "8fd5f615",
   "metadata": {},
   "outputs": [
    {
     "data": {
      "text/plain": [
       "12740"
      ]
     },
     "execution_count": 12,
     "metadata": {},
     "output_type": "execute_result"
    }
   ],
   "source": [
    "data.total_score.sum()"
   ]
  },
  {
   "cell_type": "markdown",
   "id": "f53a850c",
   "metadata": {},
   "source": [
    "# Part 2 code"
   ]
  },
  {
   "cell_type": "code",
   "execution_count": 13,
   "id": "b84103c4",
   "metadata": {},
   "outputs": [],
   "source": [
    "data['correct_strategy'] = data.apply(lambda x: 6 if x['playerB'] == 'Z'\n",
    "                                    else 0 if x['playerB'] == 'X'\n",
    "                                    else 3, axis=1)\n",
    "\n",
    "#X means you need to lose, Y means you need to end the round in a draw, and Z means you need to win."
   ]
  },
  {
   "cell_type": "code",
   "execution_count": 18,
   "id": "c56b6929",
   "metadata": {},
   "outputs": [
    {
     "name": "stderr",
     "output_type": "stream",
     "text": [
      "C:\\Users\\BOAROS\\AppData\\Local\\Temp\\ipykernel_22768\\1228660411.py:34: SettingWithCopyWarning: \n",
      "A value is trying to be set on a copy of a slice from a DataFrame\n",
      "\n",
      "See the caveats in the documentation: https://pandas.pydata.org/pandas-docs/stable/user_guide/indexing.html#returning-a-view-versus-a-copy\n",
      "  data['correct_choice'][i] = 2 #paper (Y)\n",
      "C:\\Users\\BOAROS\\AppData\\Local\\Temp\\ipykernel_22768\\1228660411.py:20: SettingWithCopyWarning: \n",
      "A value is trying to be set on a copy of a slice from a DataFrame\n",
      "\n",
      "See the caveats in the documentation: https://pandas.pydata.org/pandas-docs/stable/user_guide/indexing.html#returning-a-view-versus-a-copy\n",
      "  data['correct_choice'][i] = 3 #scissors (Z)\n",
      "C:\\Users\\BOAROS\\AppData\\Local\\Temp\\ipykernel_22768\\1228660411.py:31: SettingWithCopyWarning: \n",
      "A value is trying to be set on a copy of a slice from a DataFrame\n",
      "\n",
      "See the caveats in the documentation: https://pandas.pydata.org/pandas-docs/stable/user_guide/indexing.html#returning-a-view-versus-a-copy\n",
      "  data['correct_choice'][i] = 1 #rock (X)\n",
      "C:\\Users\\BOAROS\\AppData\\Local\\Temp\\ipykernel_22768\\1228660411.py:7: SettingWithCopyWarning: \n",
      "A value is trying to be set on a copy of a slice from a DataFrame\n",
      "\n",
      "See the caveats in the documentation: https://pandas.pydata.org/pandas-docs/stable/user_guide/indexing.html#returning-a-view-versus-a-copy\n",
      "  data['correct_choice'][i] = 2 #paper (Y)\n",
      "C:\\Users\\BOAROS\\AppData\\Local\\Temp\\ipykernel_22768\\1228660411.py:10: SettingWithCopyWarning: \n",
      "A value is trying to be set on a copy of a slice from a DataFrame\n",
      "\n",
      "See the caveats in the documentation: https://pandas.pydata.org/pandas-docs/stable/user_guide/indexing.html#returning-a-view-versus-a-copy\n",
      "  data['correct_choice'][i] = 3 #scissors (Z)\n",
      "C:\\Users\\BOAROS\\AppData\\Local\\Temp\\ipykernel_22768\\1228660411.py:37: SettingWithCopyWarning: \n",
      "A value is trying to be set on a copy of a slice from a DataFrame\n",
      "\n",
      "See the caveats in the documentation: https://pandas.pydata.org/pandas-docs/stable/user_guide/indexing.html#returning-a-view-versus-a-copy\n",
      "  data['correct_choice'][i] = 3 #paper (Z)\n",
      "C:\\Users\\BOAROS\\AppData\\Local\\Temp\\ipykernel_22768\\1228660411.py:26: SettingWithCopyWarning: \n",
      "A value is trying to be set on a copy of a slice from a DataFrame\n",
      "\n",
      "See the caveats in the documentation: https://pandas.pydata.org/pandas-docs/stable/user_guide/indexing.html#returning-a-view-versus-a-copy\n",
      "  data['correct_choice'][i] = 2 #paper (Y)\n",
      "C:\\Users\\BOAROS\\AppData\\Local\\Temp\\ipykernel_22768\\1228660411.py:13: SettingWithCopyWarning: \n",
      "A value is trying to be set on a copy of a slice from a DataFrame\n",
      "\n",
      "See the caveats in the documentation: https://pandas.pydata.org/pandas-docs/stable/user_guide/indexing.html#returning-a-view-versus-a-copy\n",
      "  data['correct_choice'][i] = 1 #rock (X)\n",
      "C:\\Users\\BOAROS\\AppData\\Local\\Temp\\ipykernel_22768\\1228660411.py:23: SettingWithCopyWarning: \n",
      "A value is trying to be set on a copy of a slice from a DataFrame\n",
      "\n",
      "See the caveats in the documentation: https://pandas.pydata.org/pandas-docs/stable/user_guide/indexing.html#returning-a-view-versus-a-copy\n",
      "  data['correct_choice'][i] = 1 #rock (X)\n"
     ]
    }
   ],
   "source": [
    "for i in data.index: \n",
    "    \n",
    "    if data['playerB'][i] == 'Z': \n",
    "        \n",
    "        if data['playerA'][i] == 'A':\n",
    "           \n",
    "            data['correct_choice'][i] = 2 #paper (Y)\n",
    "        elif data['playerA'][i] == 'B':\n",
    "            \n",
    "            data['correct_choice'][i] = 3 #scissors (Z)\n",
    "        else:\n",
    "            \n",
    "            data['correct_choice'][i] = 1 #rock (X)\n",
    "            \n",
    "    elif data['playerB'][i] == 'X':  #lose\n",
    "        \n",
    "        \n",
    "        if data['playerA'][i] == 'A':\n",
    "            \n",
    "            data['correct_choice'][i] = 3 #scissors (Z)\n",
    "        elif data['playerA'][i] == 'B':\n",
    "            \n",
    "            data['correct_choice'][i] = 1 #rock (X)\n",
    "        else:\n",
    "            \n",
    "            data['correct_choice'][i] = 2 #paper (Y)\n",
    "    else: \n",
    "        \n",
    "        if data['playerA'][i] == 'A': #draw\n",
    "            \n",
    "            data['correct_choice'][i] = 1 #rock (X)\n",
    "        elif data['playerA'][i] == 'B':\n",
    "            \n",
    "            data['correct_choice'][i] = 2 #paper (Y)\n",
    "        else:\n",
    "            \n",
    "            data['correct_choice'][i] = 3 #paper (Z)\n",
    "    \n",
    "    \n",
    "        \n",
    "\n",
    "\n",
    "#data['correct_choice'] = "
   ]
  },
  {
   "cell_type": "code",
   "execution_count": 19,
   "id": "48b84bec",
   "metadata": {},
   "outputs": [
    {
     "data": {
      "text/plain": [
       "11980"
      ]
     },
     "execution_count": 19,
     "metadata": {},
     "output_type": "execute_result"
    }
   ],
   "source": [
    "data['correct_total_score'] = data.apply(lambda x: x['correct_strategy'] + x['correct_choice'], axis=1) \n",
    "data.correct_total_score.sum()"
   ]
  },
  {
   "cell_type": "code",
   "execution_count": null,
   "id": "09ce3f29",
   "metadata": {},
   "outputs": [],
   "source": []
  }
 ],
 "metadata": {
  "kernelspec": {
   "display_name": "Python 3 (ipykernel)",
   "language": "python",
   "name": "python3"
  },
  "language_info": {
   "codemirror_mode": {
    "name": "ipython",
    "version": 3
   },
   "file_extension": ".py",
   "mimetype": "text/x-python",
   "name": "python",
   "nbconvert_exporter": "python",
   "pygments_lexer": "ipython3",
   "version": "3.9.12"
  }
 },
 "nbformat": 4,
 "nbformat_minor": 5
}
