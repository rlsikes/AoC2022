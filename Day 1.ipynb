{
 "cells": [
  {
   "cell_type": "code",
   "execution_count": 60,
   "id": "a71f5cfc",
   "metadata": {},
   "outputs": [],
   "source": [
    "import requests\n",
    "import pandas as pd\n",
    "\n",
    "def get_aoc_data(year: str, day_number: str, your_cookie: str):\n",
    "    url = f'https://adventofcode.com/{year}/day/{day_number}/input'\n",
    "    headers = {'user-agent': 'Mozilla/5.0', 'cookie': your_cookie}\n",
    "    get_data = requests.get(url, headers=headers)\n",
    "    data_returned = get_data.text.split('\\n')\n",
    "    data_dataframe = pd.DataFrame(columns=['data'], data=data_returned)\n",
    "    return data_dataframe"
   ]
  },
  {
   "cell_type": "code",
   "execution_count": 66,
   "id": "f26851a8",
   "metadata": {},
   "outputs": [],
   "source": [
    "#import the data\n",
    "data = get_aoc_data(2022, 1, '_ga=GA1.2.671750781.1669911501; _gid=GA1.2.885796655.1669911501; ru=53616c7465645f5fc8e58e037801718862ed66d9550bf3d2c48dca47922ddee4; session=53616c7465645f5fecc76146c2528d3ed4205ec6112b1fd9c7f3c20e168b7a2851468e4cc7d0d04769b17ef6eab9d4a06a2c6f71b22d5af70f0d52bd0b0ce189; _gat=1')"
   ]
  },
  {
   "cell_type": "code",
   "execution_count": 68,
   "id": "40e1b08b",
   "metadata": {
    "scrolled": true
   },
   "outputs": [],
   "source": [
    "# create a column to indicate if start of new elf's data\n",
    "data['blank'] = [1 if data == '' else 0 for data in data.data] "
   ]
  },
  {
   "cell_type": "code",
   "execution_count": 72,
   "id": "069c4897",
   "metadata": {},
   "outputs": [],
   "source": [
    "#data['elf_id'] = [x+1 for x in data.data if data['blank'].item==1] \n",
    "\n",
    "#create an identifier for each elf\n",
    "data['elf_id'] = data.blank.cumsum()"
   ]
  },
  {
   "cell_type": "code",
   "execution_count": 74,
   "id": "7bc08fd5",
   "metadata": {},
   "outputs": [],
   "source": [
    "# convert the data to numeric to be able to sum\n",
    "data['data'] = pd.to_numeric(data.data)"
   ]
  },
  {
   "cell_type": "code",
   "execution_count": 75,
   "id": "41ef393c",
   "metadata": {},
   "outputs": [],
   "source": [
    "# summarize the data\n",
    "data['calories'] = data.groupby('elf_id')[['data']].sum()"
   ]
  },
  {
   "cell_type": "code",
   "execution_count": 78,
   "id": "4222ab02",
   "metadata": {},
   "outputs": [],
   "source": [
    "# return largest 3\n",
    "df_top3 = pd.DataFrame(data.nlargest(3, 'calories'))"
   ]
  },
  {
   "cell_type": "code",
   "execution_count": 85,
   "id": "c77bc545",
   "metadata": {},
   "outputs": [
    {
     "data": {
      "text/html": [
       "<div>\n",
       "<style scoped>\n",
       "    .dataframe tbody tr th:only-of-type {\n",
       "        vertical-align: middle;\n",
       "    }\n",
       "\n",
       "    .dataframe tbody tr th {\n",
       "        vertical-align: top;\n",
       "    }\n",
       "\n",
       "    .dataframe thead th {\n",
       "        text-align: right;\n",
       "    }\n",
       "</style>\n",
       "<table border=\"1\" class=\"dataframe\">\n",
       "  <thead>\n",
       "    <tr style=\"text-align: right;\">\n",
       "      <th></th>\n",
       "      <th>data</th>\n",
       "      <th>blank</th>\n",
       "      <th>elf_id</th>\n",
       "      <th>calories</th>\n",
       "    </tr>\n",
       "  </thead>\n",
       "  <tbody>\n",
       "    <tr>\n",
       "      <th>136</th>\n",
       "      <td>11123.0</td>\n",
       "      <td>0</td>\n",
       "      <td>13</td>\n",
       "      <td>75622.0</td>\n",
       "    </tr>\n",
       "  </tbody>\n",
       "</table>\n",
       "</div>"
      ],
      "text/plain": [
       "        data  blank  elf_id  calories\n",
       "136  11123.0      0      13   75622.0"
      ]
     },
     "execution_count": 85,
     "metadata": {},
     "output_type": "execute_result"
    }
   ],
   "source": [
    "df_top3.head(1)"
   ]
  },
  {
   "cell_type": "code",
   "execution_count": 80,
   "id": "4f8f3c8c",
   "metadata": {},
   "outputs": [
    {
     "name": "stdout",
     "output_type": "stream",
     "text": [
      "213159.0\n"
     ]
    }
   ],
   "source": [
    "print(df_top3['calories'].sum())"
   ]
  },
  {
   "cell_type": "code",
   "execution_count": null,
   "id": "f7129a0e",
   "metadata": {},
   "outputs": [],
   "source": []
  },
  {
   "cell_type": "code",
   "execution_count": null,
   "id": "aff92ac1",
   "metadata": {},
   "outputs": [],
   "source": []
  },
  {
   "cell_type": "code",
   "execution_count": null,
   "id": "fe201dc8",
   "metadata": {},
   "outputs": [],
   "source": []
  }
 ],
 "metadata": {
  "kernelspec": {
   "display_name": "Python 3 (ipykernel)",
   "language": "python",
   "name": "python3"
  },
  "language_info": {
   "codemirror_mode": {
    "name": "ipython",
    "version": 3
   },
   "file_extension": ".py",
   "mimetype": "text/x-python",
   "name": "python",
   "nbconvert_exporter": "python",
   "pygments_lexer": "ipython3",
   "version": "3.9.12"
  }
 },
 "nbformat": 4,
 "nbformat_minor": 5
}
